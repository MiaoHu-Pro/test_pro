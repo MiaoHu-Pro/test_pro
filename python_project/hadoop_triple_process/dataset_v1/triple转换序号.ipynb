{
 "cells": [
  {
   "cell_type": "markdown",
   "id": "732f7e3d-367d-425b-901c-ddadb43a1193",
   "metadata": {},
   "source": [
    "## triple转换序号"
   ]
  },
  {
   "cell_type": "code",
   "execution_count": 1,
   "id": "421558ce-47ec-41a7-ad49-fbcab86c3d47",
   "metadata": {},
   "outputs": [],
   "source": [
    "import numpy as np"
   ]
  },
  {
   "cell_type": "code",
   "execution_count": null,
   "id": "208f7656-cb4f-418e-873b-6edeb51775c3",
   "metadata": {},
   "outputs": [],
   "source": [
    "def read_files(rank_path):\n",
    "    f = open(rank_path)\n",
    "    f.readline()\n",
    "\n",
    "    x_obj = []\n",
    "    for d in f:\n",
    "        d = d.strip()\n",
    "        if d:\n",
    "            d = d.split('\\t')\n",
    "\n",
    "            elements = []\n",
    "            for n in d:\n",
    "                elements.append(n.strip())\n",
    "            d = elements\n",
    "            x_obj.append(d)\n",
    "    f.close()\n",
    "\n",
    "    return np.array(x_obj)"
   ]
  }
 ],
 "metadata": {
  "kernelspec": {
   "display_name": "Python 3 (ipykernel)",
   "language": "python",
   "name": "python3"
  },
  "language_info": {
   "codemirror_mode": {
    "name": "ipython",
    "version": 3
   },
   "file_extension": ".py",
   "mimetype": "text/x-python",
   "name": "python",
   "nbconvert_exporter": "python",
   "pygments_lexer": "ipython3",
   "version": "3.9.12"
  }
 },
 "nbformat": 4,
 "nbformat_minor": 5
}
