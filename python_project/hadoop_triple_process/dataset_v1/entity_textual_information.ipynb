{
 "cells": [
  {
   "cell_type": "code",
   "execution_count": 1,
   "id": "dab3496c-3b2b-4474-acab-fe58e92a367f",
   "metadata": {},
   "outputs": [],
   "source": [
    "from jira import JIRA\n",
    "import pandas as pd\n",
    "jira = JIRA('http://issues.apache.org/jira', basic_auth=('mxz97', 'mxz970801'))"
   ]
  },
  {
   "cell_type": "code",
   "execution_count": 2,
   "id": "f7d2c11b-513c-4dd9-a1eb-a0c2271d5167",
   "metadata": {},
   "outputs": [
    {
     "data": {
      "text/html": [
       "<div>\n",
       "<style scoped>\n",
       "    .dataframe tbody tr th:only-of-type {\n",
       "        vertical-align: middle;\n",
       "    }\n",
       "\n",
       "    .dataframe tbody tr th {\n",
       "        vertical-align: top;\n",
       "    }\n",
       "\n",
       "    .dataframe thead th {\n",
       "        text-align: right;\n",
       "    }\n",
       "</style>\n",
       "<table border=\"1\" class=\"dataframe\">\n",
       "  <thead>\n",
       "    <tr style=\"text-align: right;\">\n",
       "      <th></th>\n",
       "      <th>HADOOP-18393</th>\n",
       "    </tr>\n",
       "  </thead>\n",
       "  <tbody>\n",
       "    <tr>\n",
       "      <th>0</th>\n",
       "      <td>HADOOP-18393</td>\n",
       "    </tr>\n",
       "    <tr>\n",
       "      <th>1</th>\n",
       "      <td>HADOOP-18391</td>\n",
       "    </tr>\n",
       "    <tr>\n",
       "      <th>2</th>\n",
       "      <td>HADOOP-18390</td>\n",
       "    </tr>\n",
       "    <tr>\n",
       "      <th>3</th>\n",
       "      <td>HADOOP-18386</td>\n",
       "    </tr>\n",
       "    <tr>\n",
       "      <th>4</th>\n",
       "      <td>HADOOP-18373</td>\n",
       "    </tr>\n",
       "    <tr>\n",
       "      <th>...</th>\n",
       "      <td>...</td>\n",
       "    </tr>\n",
       "    <tr>\n",
       "      <th>17722</th>\n",
       "      <td>HADOOP-12</td>\n",
       "    </tr>\n",
       "    <tr>\n",
       "      <th>17723</th>\n",
       "      <td>HADOOP-16</td>\n",
       "    </tr>\n",
       "    <tr>\n",
       "      <th>17724</th>\n",
       "      <td>HADOOP-17</td>\n",
       "    </tr>\n",
       "    <tr>\n",
       "      <th>17725</th>\n",
       "      <td>HADOOP-110</td>\n",
       "    </tr>\n",
       "    <tr>\n",
       "      <th>17726</th>\n",
       "      <td>NUTCH-193</td>\n",
       "    </tr>\n",
       "  </tbody>\n",
       "</table>\n",
       "<p>17727 rows × 1 columns</p>\n",
       "</div>"
      ],
      "text/plain": [
       "       HADOOP-18393\n",
       "0      HADOOP-18393\n",
       "1      HADOOP-18391\n",
       "2      HADOOP-18390\n",
       "3      HADOOP-18386\n",
       "4      HADOOP-18373\n",
       "...             ...\n",
       "17722     HADOOP-12\n",
       "17723     HADOOP-16\n",
       "17724     HADOOP-17\n",
       "17725    HADOOP-110\n",
       "17726     NUTCH-193\n",
       "\n",
       "[17727 rows x 1 columns]"
      ]
     },
     "execution_count": 2,
     "metadata": {},
     "output_type": "execute_result"
    }
   ],
   "source": [
    "entity_textual = pd.read_csv(\"entity.csv\")\n",
    "entity_textual"
   ]
  },
  {
   "cell_type": "code",
   "execution_count": 4,
   "id": "c59c6a79-16ab-4a12-848b-f9874e181c2d",
   "metadata": {},
   "outputs": [
    {
     "ename": "JIRAError",
     "evalue": "JiraError HTTP 404 url: https://issues.apache.org/jira/rest/api/2/issue/%20%20%20%20%20%20%20HADOOP-18393%0a0%20%20%20%20%20%20HADOOP-18393%0a1%20%20%20%20%20%20HADOOP-18391%0a2%20%20%20%20%20%20HADOOP-18390%0a3%20%20%20%20%20%20HADOOP-18386%0a4%20%20%20%20%20%20HADOOP-18373%0a...%20%20%20%20%20%20%20%20%20%20%20%20%20...%0a17722%20%20%20%20%20HADOOP-12%0a17723%20%20%20%20%20HADOOP-16%0a17724%20%20%20%20%20HADOOP-17%0a17725%20%20%20%20HADOOP-110%0a17726%20%20%20%20%20NUTCH-193%0a%0a%5b17727%20rows%20x%201%20columns%5d\n\ttext: Issue Does Not Exist\n\t\n\tresponse headers = {'Date': 'Sat, 20 Aug 2022 22:31:13 GMT', 'Server': 'Apache', 'X-AREQUESTID': '1351x94749843x4', 'X-ASESSIONID': '1jnevha', 'Referrer-Policy': 'strict-origin-when-cross-origin', 'X-XSS-Protection': '1; mode=block', 'X-Content-Type-Options': 'nosniff', 'X-Frame-Options': 'SAMEORIGIN', 'Content-Security-Policy': 'sandbox', 'Strict-Transport-Security': 'max-age=31536000', 'X-Seraph-LoginReason': 'OK', 'X-AUSERNAME': 'mxz97', 'Cache-Control': 'no-cache, no-store, no-transform', 'Content-Type': 'application/json;charset=UTF-8', 'Via': '1.1 jira2-he-de.apache.org', 'Keep-Alive': 'timeout=15, max=100', 'Connection': 'Keep-Alive', 'Transfer-Encoding': 'chunked'}\n\tresponse text = {\"errorMessages\":[\"Issue Does Not Exist\"],\"errors\":{}}",
     "output_type": "error",
     "traceback": [
      "\u001b[0;31m---------------------------------------------------------------------------\u001b[0m",
      "\u001b[0;31mJIRAError\u001b[0m                                 Traceback (most recent call last)",
      "Input \u001b[0;32mIn [4]\u001b[0m, in \u001b[0;36m<cell line: 1>\u001b[0;34m()\u001b[0m\n\u001b[0;32m----> 1\u001b[0m issue \u001b[38;5;241m=\u001b[39m \u001b[43mjira\u001b[49m\u001b[38;5;241;43m.\u001b[39;49m\u001b[43missue\u001b[49m\u001b[43m(\u001b[49m\u001b[43mentity_textual\u001b[49m\u001b[43m)\u001b[49m\n\u001b[1;32m      2\u001b[0m issue\u001b[38;5;241m.\u001b[39mfields\u001b[38;5;241m.\u001b[39missuetype\n",
      "File \u001b[0;32m/Library/Frameworks/Python.framework/Versions/3.9/lib/python3.9/site-packages/jira/client.py:1429\u001b[0m, in \u001b[0;36mJIRA.issue\u001b[0;34m(self, id, fields, expand)\u001b[0m\n\u001b[1;32m   1427\u001b[0m \u001b[38;5;28;01mif\u001b[39;00m expand \u001b[38;5;129;01mis\u001b[39;00m \u001b[38;5;129;01mnot\u001b[39;00m \u001b[38;5;28;01mNone\u001b[39;00m:\n\u001b[1;32m   1428\u001b[0m     params[\u001b[38;5;124m\"\u001b[39m\u001b[38;5;124mexpand\u001b[39m\u001b[38;5;124m\"\u001b[39m] \u001b[38;5;241m=\u001b[39m expand\n\u001b[0;32m-> 1429\u001b[0m \u001b[43missue\u001b[49m\u001b[38;5;241;43m.\u001b[39;49m\u001b[43mfind\u001b[49m\u001b[43m(\u001b[49m\u001b[38;5;28;43mid\u001b[39;49m\u001b[43m,\u001b[49m\u001b[43m \u001b[49m\u001b[43mparams\u001b[49m\u001b[38;5;241;43m=\u001b[39;49m\u001b[43mparams\u001b[49m\u001b[43m)\u001b[49m\n\u001b[1;32m   1430\u001b[0m \u001b[38;5;28;01mreturn\u001b[39;00m issue\n",
      "File \u001b[0;32m/Library/Frameworks/Python.framework/Versions/3.9/lib/python3.9/site-packages/jira/resources.py:293\u001b[0m, in \u001b[0;36mResource.find\u001b[0;34m(self, id, params)\u001b[0m\n\u001b[1;32m    291\u001b[0m     path \u001b[38;5;241m=\u001b[39m \u001b[38;5;28mself\u001b[39m\u001b[38;5;241m.\u001b[39m_resource\u001b[38;5;241m.\u001b[39mformat(\u001b[38;5;28mid\u001b[39m)\n\u001b[1;32m    292\u001b[0m url \u001b[38;5;241m=\u001b[39m \u001b[38;5;28mself\u001b[39m\u001b[38;5;241m.\u001b[39m_get_url(path)\n\u001b[0;32m--> 293\u001b[0m \u001b[38;5;28;43mself\u001b[39;49m\u001b[38;5;241;43m.\u001b[39;49m\u001b[43m_load\u001b[49m\u001b[43m(\u001b[49m\u001b[43murl\u001b[49m\u001b[43m,\u001b[49m\u001b[43m \u001b[49m\u001b[43mparams\u001b[49m\u001b[38;5;241;43m=\u001b[39;49m\u001b[43mparams\u001b[49m\u001b[43m)\u001b[49m\n",
      "File \u001b[0;32m/Library/Frameworks/Python.framework/Versions/3.9/lib/python3.9/site-packages/jira/resources.py:463\u001b[0m, in \u001b[0;36mResource._load\u001b[0;34m(self, url, headers, params, path)\u001b[0m\n\u001b[1;32m    445\u001b[0m \u001b[38;5;28;01mdef\u001b[39;00m \u001b[38;5;21m_load\u001b[39m(\n\u001b[1;32m    446\u001b[0m     \u001b[38;5;28mself\u001b[39m,\n\u001b[1;32m    447\u001b[0m     url: \u001b[38;5;28mstr\u001b[39m,\n\u001b[0;32m   (...)\u001b[0m\n\u001b[1;32m    450\u001b[0m     path: Optional[\u001b[38;5;28mstr\u001b[39m] \u001b[38;5;241m=\u001b[39m \u001b[38;5;28;01mNone\u001b[39;00m,\n\u001b[1;32m    451\u001b[0m ):\n\u001b[1;32m    452\u001b[0m     \u001b[38;5;124;03m\"\"\"Load a resource.\u001b[39;00m\n\u001b[1;32m    453\u001b[0m \n\u001b[1;32m    454\u001b[0m \u001b[38;5;124;03m    Args:\u001b[39;00m\n\u001b[0;32m   (...)\u001b[0m\n\u001b[1;32m    461\u001b[0m \u001b[38;5;124;03m        ValueError: If json cannot be loaded\u001b[39;00m\n\u001b[1;32m    462\u001b[0m \u001b[38;5;124;03m    \"\"\"\u001b[39;00m\n\u001b[0;32m--> 463\u001b[0m     r \u001b[38;5;241m=\u001b[39m \u001b[38;5;28;43mself\u001b[39;49m\u001b[38;5;241;43m.\u001b[39;49m\u001b[43m_session\u001b[49m\u001b[38;5;241;43m.\u001b[39;49m\u001b[43mget\u001b[49m\u001b[43m(\u001b[49m\u001b[43murl\u001b[49m\u001b[43m,\u001b[49m\u001b[43m \u001b[49m\u001b[43mheaders\u001b[49m\u001b[38;5;241;43m=\u001b[39;49m\u001b[43mheaders\u001b[49m\u001b[43m,\u001b[49m\u001b[43m \u001b[49m\u001b[43mparams\u001b[49m\u001b[38;5;241;43m=\u001b[39;49m\u001b[43mparams\u001b[49m\u001b[43m)\u001b[49m\n\u001b[1;32m    464\u001b[0m     \u001b[38;5;28;01mtry\u001b[39;00m:\n\u001b[1;32m    465\u001b[0m         j \u001b[38;5;241m=\u001b[39m json_loads(r)\n",
      "File \u001b[0;32m/Library/Frameworks/Python.framework/Versions/3.9/lib/python3.9/site-packages/jira/resilientsession.py:195\u001b[0m, in \u001b[0;36mResilientSession.get\u001b[0;34m(self, url, **kwargs)\u001b[0m\n\u001b[1;32m    194\u001b[0m \u001b[38;5;28;01mdef\u001b[39;00m \u001b[38;5;21mget\u001b[39m(\u001b[38;5;28mself\u001b[39m, url: Union[\u001b[38;5;28mstr\u001b[39m, \u001b[38;5;28mbytes\u001b[39m], \u001b[38;5;241m*\u001b[39m\u001b[38;5;241m*\u001b[39mkwargs) \u001b[38;5;241m-\u001b[39m\u001b[38;5;241m>\u001b[39m Response:  \u001b[38;5;66;03m# type: ignore\u001b[39;00m\n\u001b[0;32m--> 195\u001b[0m     \u001b[38;5;28;01mreturn\u001b[39;00m \u001b[38;5;28;43mself\u001b[39;49m\u001b[38;5;241;43m.\u001b[39;49m\u001b[43m__verb\u001b[49m\u001b[43m(\u001b[49m\u001b[38;5;124;43m\"\u001b[39;49m\u001b[38;5;124;43mGET\u001b[39;49m\u001b[38;5;124;43m\"\u001b[39;49m\u001b[43m,\u001b[49m\u001b[43m \u001b[49m\u001b[38;5;28;43mstr\u001b[39;49m\u001b[43m(\u001b[49m\u001b[43murl\u001b[49m\u001b[43m)\u001b[49m\u001b[43m,\u001b[49m\u001b[43m \u001b[49m\u001b[38;5;241;43m*\u001b[39;49m\u001b[38;5;241;43m*\u001b[39;49m\u001b[43mkwargs\u001b[49m\u001b[43m)\u001b[49m\n",
      "File \u001b[0;32m/Library/Frameworks/Python.framework/Versions/3.9/lib/python3.9/site-packages/jira/resilientsession.py:189\u001b[0m, in \u001b[0;36mResilientSession.__verb\u001b[0;34m(self, verb, url, retry_data, **kwargs)\u001b[0m\n\u001b[1;32m    187\u001b[0m \u001b[38;5;28;01mif\u001b[39;00m exception \u001b[38;5;129;01mis\u001b[39;00m \u001b[38;5;129;01mnot\u001b[39;00m \u001b[38;5;28;01mNone\u001b[39;00m:\n\u001b[1;32m    188\u001b[0m     \u001b[38;5;28;01mraise\u001b[39;00m exception\n\u001b[0;32m--> 189\u001b[0m \u001b[43mraise_on_error\u001b[49m\u001b[43m(\u001b[49m\u001b[43mresponse\u001b[49m\u001b[43m,\u001b[49m\u001b[43m \u001b[49m\u001b[43mverb\u001b[49m\u001b[38;5;241;43m=\u001b[39;49m\u001b[43mverb\u001b[49m\u001b[43m,\u001b[49m\u001b[43m \u001b[49m\u001b[38;5;241;43m*\u001b[39;49m\u001b[38;5;241;43m*\u001b[39;49m\u001b[43mkwargs\u001b[49m\u001b[43m)\u001b[49m\n\u001b[1;32m    190\u001b[0m \u001b[38;5;66;03m# after raise_on_error, only Response objects are allowed through\u001b[39;00m\n\u001b[1;32m    191\u001b[0m response \u001b[38;5;241m=\u001b[39m cast(Response, response)  \u001b[38;5;66;03m# tell mypy only Response-like are here\u001b[39;00m\n",
      "File \u001b[0;32m/Library/Frameworks/Python.framework/Versions/3.9/lib/python3.9/site-packages/jira/resilientsession.py:64\u001b[0m, in \u001b[0;36mraise_on_error\u001b[0;34m(r, verb, **kwargs)\u001b[0m\n\u001b[1;32m     62\u001b[0m         \u001b[38;5;28;01mexcept\u001b[39;00m \u001b[38;5;167;01mValueError\u001b[39;00m:\n\u001b[1;32m     63\u001b[0m             error \u001b[38;5;241m=\u001b[39m r\u001b[38;5;241m.\u001b[39mtext\n\u001b[0;32m---> 64\u001b[0m     \u001b[38;5;28;01mraise\u001b[39;00m JIRAError(\n\u001b[1;32m     65\u001b[0m         error,\n\u001b[1;32m     66\u001b[0m         status_code\u001b[38;5;241m=\u001b[39mr\u001b[38;5;241m.\u001b[39mstatus_code,\n\u001b[1;32m     67\u001b[0m         url\u001b[38;5;241m=\u001b[39mr\u001b[38;5;241m.\u001b[39murl,\n\u001b[1;32m     68\u001b[0m         request\u001b[38;5;241m=\u001b[39mrequest,\n\u001b[1;32m     69\u001b[0m         response\u001b[38;5;241m=\u001b[39mr,\n\u001b[1;32m     70\u001b[0m         \u001b[38;5;241m*\u001b[39m\u001b[38;5;241m*\u001b[39mkwargs,\n\u001b[1;32m     71\u001b[0m     )\n\u001b[1;32m     72\u001b[0m \u001b[38;5;66;03m# for debugging weird errors on CI\u001b[39;00m\n\u001b[1;32m     73\u001b[0m \u001b[38;5;28;01mif\u001b[39;00m r\u001b[38;5;241m.\u001b[39mstatus_code \u001b[38;5;129;01mnot\u001b[39;00m \u001b[38;5;129;01min\u001b[39;00m [\u001b[38;5;241m200\u001b[39m, \u001b[38;5;241m201\u001b[39m, \u001b[38;5;241m202\u001b[39m, \u001b[38;5;241m204\u001b[39m]:\n",
      "\u001b[0;31mJIRAError\u001b[0m: JiraError HTTP 404 url: https://issues.apache.org/jira/rest/api/2/issue/%20%20%20%20%20%20%20HADOOP-18393%0a0%20%20%20%20%20%20HADOOP-18393%0a1%20%20%20%20%20%20HADOOP-18391%0a2%20%20%20%20%20%20HADOOP-18390%0a3%20%20%20%20%20%20HADOOP-18386%0a4%20%20%20%20%20%20HADOOP-18373%0a...%20%20%20%20%20%20%20%20%20%20%20%20%20...%0a17722%20%20%20%20%20HADOOP-12%0a17723%20%20%20%20%20HADOOP-16%0a17724%20%20%20%20%20HADOOP-17%0a17725%20%20%20%20HADOOP-110%0a17726%20%20%20%20%20NUTCH-193%0a%0a%5b17727%20rows%20x%201%20columns%5d\n\ttext: Issue Does Not Exist\n\t\n\tresponse headers = {'Date': 'Sat, 20 Aug 2022 22:31:13 GMT', 'Server': 'Apache', 'X-AREQUESTID': '1351x94749843x4', 'X-ASESSIONID': '1jnevha', 'Referrer-Policy': 'strict-origin-when-cross-origin', 'X-XSS-Protection': '1; mode=block', 'X-Content-Type-Options': 'nosniff', 'X-Frame-Options': 'SAMEORIGIN', 'Content-Security-Policy': 'sandbox', 'Strict-Transport-Security': 'max-age=31536000', 'X-Seraph-LoginReason': 'OK', 'X-AUSERNAME': 'mxz97', 'Cache-Control': 'no-cache, no-store, no-transform', 'Content-Type': 'application/json;charset=UTF-8', 'Via': '1.1 jira2-he-de.apache.org', 'Keep-Alive': 'timeout=15, max=100', 'Connection': 'Keep-Alive', 'Transfer-Encoding': 'chunked'}\n\tresponse text = {\"errorMessages\":[\"Issue Does Not Exist\"],\"errors\":{}}"
     ]
    }
   ],
   "source": [
    "issue = jira.issue(entity_textual)\n",
    "issue.fields.issuetype"
   ]
  },
  {
   "cell_type": "code",
   "execution_count": null,
   "id": "b5438c9d-8f5f-41ae-b9ec-65503b76df44",
   "metadata": {},
   "outputs": [],
   "source": []
  }
 ],
 "metadata": {
  "kernelspec": {
   "display_name": "Python 3 (ipykernel)",
   "language": "python",
   "name": "python3"
  },
  "language_info": {
   "codemirror_mode": {
    "name": "ipython",
    "version": 3
   },
   "file_extension": ".py",
   "mimetype": "text/x-python",
   "name": "python",
   "nbconvert_exporter": "python",
   "pygments_lexer": "ipython3",
   "version": "3.9.12"
  }
 },
 "nbformat": 4,
 "nbformat_minor": 5
}
